{
 "cells": [
  {
   "cell_type": "code",
   "execution_count": 3,
   "metadata": {},
   "outputs": [],
   "source": [
    "import pandas as pd\n",
    "import glob, os, json"
   ]
  },
  {
   "cell_type": "code",
   "execution_count": 28,
   "metadata": {
    "tags": []
   },
   "outputs": [
    {
     "name": "stdout",
     "output_type": "stream",
     "text": [
      "sshape\n",
      "['names', 'labels', 'columns', 'values', 'statistics']\n",
      "spotify\n",
      "['names', 'labels', 'columns', 'values', 'statistics']\n",
      "iris\n",
      "['names', 'labels', 'columns', 'values', 'statistics']\n",
      "oecd\n",
      "['names', 'labels', 'columns', 'values', 'statistics']\n",
      "swissroll\n",
      "['names', 'labels', 'columns', 'values', 'statistics']\n",
      "waves\n",
      "['names', 'labels', 'columns', 'values', 'statistics']\n",
      "mnist\n",
      "['names', 'labels', 'columns', 'values', 'statistics']\n",
      "fmnist\n",
      "['names', 'labels', 'columns', 'values', 'statistics']\n"
     ]
    }
   ],
   "source": [
    "for file in glob.glob(\"*.csv\"):\n",
    "    dataset_name = file[:-4]\n",
    "    print(dataset_name)\n",
    "    data = pd.read_csv(file)\n",
    "    names = list(data[\"name\"])\n",
    "    labels = list(data[\"class\"])\n",
    "    columns = [x for x in data.columns if x != \"name\" and x != \"class\"]\n",
    "    values = []\n",
    "    for index, row in data.iterrows():\n",
    "        values.append([float(row[x]) for x in columns])\n",
    "\n",
    "    #print(values)\n",
    "    statistics = json.loads(pd.DataFrame(values, columns=columns).describe().to_json())\n",
    "\n",
    "    result = {\n",
    "        \"names\": names,\n",
    "        \"labels\": labels,\n",
    "        \"columns\": columns,\n",
    "        \"values\": values,\n",
    "        \"statistics\": statistics\n",
    "    }\n",
    "    print(list(result.keys()))\n",
    "\n",
    "    with open(\"../dataset/\" + dataset_name + \".json\", \"w\") as outfile:\n",
    "        json.dump(result, outfile)\n"
   ]
  },
  {
   "cell_type": "code",
   "execution_count": 64,
   "metadata": {},
   "outputs": [
    {
     "data": {
      "text/plain": [
       "0"
      ]
     },
     "execution_count": 64,
     "metadata": {},
     "output_type": "execute_result"
    }
   ],
   "source": [
    "a = list([1, 2,3,4])\n",
    "a.count(5)"
   ]
  },
  {
   "cell_type": "code",
   "execution_count": 97,
   "metadata": {
    "tags": []
   },
   "outputs": [
    {
     "name": "stdout",
     "output_type": "stream",
     "text": [
      "[(1, [273.739, -146.56, 86.577]), (7, [268.616, 124.92, 75.592]), (10, [485.79, -158.137, 111.407]), (3, [350.26, 87.84, 127.652]), (7, [240.849, 90.282, 56.488])]\n",
      "[(0, [354.353, 59.583, 25.541]), (0, [355.459, 122.502, 45.178]), (0, [359.823, 55.527, 22.241]), (0, [360.121, 53.385, 22.519]), (0, [362.306, 124.112, 51.508])]\n"
     ]
    }
   ],
   "source": [
    "import json\n",
    "\n",
    "indices = pd.Series(range(10000)).sample(1200, replace=False)\n",
    "with open(\"./3dmammoth.json\") as f:\n",
    "    values = json.load(f)\n",
    "\n",
    "with open(\"./umapmammoth.json\") as f:\n",
    "    data = json.load(f)\n",
    "\n",
    "columns = [\"x\", \"y\", \"z\"]\n",
    "\n",
    "labels = data[\"labels\"]\n",
    "values = data[\"3d\"]\n",
    "L = []\n",
    "V = []\n",
    "for i in indices:\n",
    "    L.append(labels[i])\n",
    "    V.append([int(x * 1000) / 1000 for x in [values[i][1], values[i][2], values[i][0]]])\n",
    "\n",
    "LV = list(zip(L, V))\n",
    "\n",
    "print(LV[0:5])\n",
    "LV = sorted(LV)\n",
    "\n",
    "print(LV[0:5])\n",
    "L = [l for l, v in LV]\n",
    "V = [v for l, v in LV]\n",
    "\n",
    "V2 = pd.DataFrame(V, columns=columns)\n",
    "statistics = json.loads(V2.describe().to_json())\n",
    "labels = L\n",
    "values = V\n",
    "names = list(range(len(V)))\n",
    "#print(values)\n",
    "result = {\n",
    "        \"names\": names,\n",
    "        \"labels\": labels,\n",
    "        \"columns\": columns,\n",
    "        \"values\": values,\n",
    "        \"statistics\": statistics\n",
    "    }\n",
    "\n",
    "with open(\"../dataset/mammoth.json\", \"w\") as outfile:\n",
    "    json.dump(result, outfile)\n"
   ]
  },
  {
   "cell_type": "code",
   "execution_count": null,
   "metadata": {},
   "outputs": [],
   "source": [
    "    \"\"\" names = list(data[\"name\"])\n",
    "    labels = list(data[\"class\"])\n",
    "    columns = [x for x in data.columns if x != \"name\" and x != \"class\"]\n",
    "    values = []\n",
    "    for index, row in data.iterrows():\n",
    "        values.append([float(row[x]) for x in columns])\n",
    "\n",
    "    #print(values)\n",
    "    statistics = json.loads(pd.DataFrame(values, columns=columns).describe().to_json())\n",
    "\n",
    "    result = {\n",
    "        \"names\": names,\n",
    "        \"labels\": labels,\n",
    "        \"columns\": columns,\n",
    "        \"values\": values,\n",
    "        \"statistics\": statistics\n",
    "    }\n",
    "    print(list(result.keys()))\n",
    "\n",
    "    with open(\"../dataset/\" + dataset_name + \".json\", \"w\") as outfile:\n",
    "        json.dump(result, outfile) \"\"\""
   ]
  },
  {
   "cell_type": "code",
   "execution_count": 32,
   "metadata": {},
   "outputs": [
    {
     "name": "stdout",
     "output_type": "stream",
     "text": [
      "Defaulting to user installation because normal site-packages is not writeable\n",
      "Requirement already satisfied: pandas in /home/saehrimnir/.local/lib/python3.10/site-packages (1.3.5)\n",
      "Requirement already satisfied: pytz>=2017.3 in /usr/lib/python3.10/site-packages (from pandas) (2021.3)\n",
      "Requirement already satisfied: python-dateutil>=2.7.3 in /usr/lib/python3.10/site-packages (from pandas) (2.8.2)\n",
      "Requirement already satisfied: numpy>=1.21.0 in /usr/lib/python3.10/site-packages (from pandas) (1.21.5)\n",
      "Requirement already satisfied: six>=1.5 in /usr/lib/python3.10/site-packages (from python-dateutil>=2.7.3->pandas) (1.16.0)\n",
      "Defaulting to user installation because normal site-packages is not writeable\n",
      "Requirement already satisfied: simplejson in /home/saehrimnir/.local/lib/python3.10/site-packages (3.17.6)\n",
      "Index(['rowid', 'species', 'island', 'bill_length_mm', 'bill_depth_mm',\n",
      "       'flipper_length_mm', 'body_mass_g', 'sex', 'year'],\n",
      "      dtype='object')\n",
      "[[  39.1   18.7  181.  3750. ]\n",
      " [  39.5   17.4  186.  3800. ]\n",
      " [  40.3   18.   195.  3250. ]\n",
      " ...\n",
      " [  49.6   18.2  193.  3775. ]\n",
      " [  50.8   19.   210.  4100. ]\n",
      " [  50.2   18.7  198.  3775. ]]\n",
      "{'values': [[39.1, 18.7, 181.0, 3750.0], [39.5, 17.4, 186.0, 3800.0], [40.3, 18.0, 195.0, 3250.0], [nan, nan, nan, nan], [36.7, 19.3, 193.0, 3450.0], [39.3, 20.6, 190.0, 3650.0], [38.9, 17.8, 181.0, 3625.0], [39.2, 19.6, 195.0, 4675.0], [34.1, 18.1, 193.0, 3475.0], [42.0, 20.2, 190.0, 4250.0], [37.8, 17.1, 186.0, 3300.0], [37.8, 17.3, 180.0, 3700.0], [41.1, 17.6, 182.0, 3200.0], [38.6, 21.2, 191.0, 3800.0], [34.6, 21.1, 198.0, 4400.0], [36.6, 17.8, 185.0, 3700.0], [38.7, 19.0, 195.0, 3450.0], [42.5, 20.7, 197.0, 4500.0], [34.4, 18.4, 184.0, 3325.0], [46.0, 21.5, 194.0, 4200.0], [37.8, 18.3, 174.0, 3400.0], [37.7, 18.7, 180.0, 3600.0], [35.9, 19.2, 189.0, 3800.0], [38.2, 18.1, 185.0, 3950.0], [38.8, 17.2, 180.0, 3800.0], [35.3, 18.9, 187.0, 3800.0], [40.6, 18.6, 183.0, 3550.0], [40.5, 17.9, 187.0, 3200.0], [37.9, 18.6, 172.0, 3150.0], [40.5, 18.9, 180.0, 3950.0], [39.5, 16.7, 178.0, 3250.0], [37.2, 18.1, 178.0, 3900.0], [39.5, 17.8, 188.0, 3300.0], [40.9, 18.9, 184.0, 3900.0], [36.4, 17.0, 195.0, 3325.0], [39.2, 21.1, 196.0, 4150.0], [38.8, 20.0, 190.0, 3950.0], [42.2, 18.5, 180.0, 3550.0], [37.6, 19.3, 181.0, 3300.0], [39.8, 19.1, 184.0, 4650.0], [36.5, 18.0, 182.0, 3150.0], [40.8, 18.4, 195.0, 3900.0], [36.0, 18.5, 186.0, 3100.0], [44.1, 19.7, 196.0, 4400.0], [37.0, 16.9, 185.0, 3000.0], [39.6, 18.8, 190.0, 4600.0], [41.1, 19.0, 182.0, 3425.0], [37.5, 18.9, 179.0, 2975.0], [36.0, 17.9, 190.0, 3450.0], [42.3, 21.2, 191.0, 4150.0], [39.6, 17.7, 186.0, 3500.0], [40.1, 18.9, 188.0, 4300.0], [35.0, 17.9, 190.0, 3450.0], [42.0, 19.5, 200.0, 4050.0], [34.5, 18.1, 187.0, 2900.0], [41.4, 18.6, 191.0, 3700.0], [39.0, 17.5, 186.0, 3550.0], [40.6, 18.8, 193.0, 3800.0], [36.5, 16.6, 181.0, 2850.0], [37.6, 19.1, 194.0, 3750.0], [35.7, 16.9, 185.0, 3150.0], [41.3, 21.1, 195.0, 4400.0], [37.6, 17.0, 185.0, 3600.0], [41.1, 18.2, 192.0, 4050.0], [36.4, 17.1, 184.0, 2850.0], [41.6, 18.0, 192.0, 3950.0], [35.5, 16.2, 195.0, 3350.0], [41.1, 19.1, 188.0, 4100.0], [35.9, 16.6, 190.0, 3050.0], [41.8, 19.4, 198.0, 4450.0], [33.5, 19.0, 190.0, 3600.0], [39.7, 18.4, 190.0, 3900.0], [39.6, 17.2, 196.0, 3550.0], [45.8, 18.9, 197.0, 4150.0], [35.5, 17.5, 190.0, 3700.0], [42.8, 18.5, 195.0, 4250.0], [40.9, 16.8, 191.0, 3700.0], [37.2, 19.4, 184.0, 3900.0], [36.2, 16.1, 187.0, 3550.0], [42.1, 19.1, 195.0, 4000.0], [34.6, 17.2, 189.0, 3200.0], [42.9, 17.6, 196.0, 4700.0], [36.7, 18.8, 187.0, 3800.0], [35.1, 19.4, 193.0, 4200.0], [37.3, 17.8, 191.0, 3350.0], [41.3, 20.3, 194.0, 3550.0], [36.3, 19.5, 190.0, 3800.0], [36.9, 18.6, 189.0, 3500.0], [38.3, 19.2, 189.0, 3950.0], [38.9, 18.8, 190.0, 3600.0], [35.7, 18.0, 202.0, 3550.0], [41.1, 18.1, 205.0, 4300.0], [34.0, 17.1, 185.0, 3400.0], [39.6, 18.1, 186.0, 4450.0], [36.2, 17.3, 187.0, 3300.0], [40.8, 18.9, 208.0, 4300.0], [38.1, 18.6, 190.0, 3700.0], [40.3, 18.5, 196.0, 4350.0], [33.1, 16.1, 178.0, 2900.0], [43.2, 18.5, 192.0, 4100.0], [35.0, 17.9, 192.0, 3725.0], [41.0, 20.0, 203.0, 4725.0], [37.7, 16.0, 183.0, 3075.0], [37.8, 20.0, 190.0, 4250.0], [37.9, 18.6, 193.0, 2925.0], [39.7, 18.9, 184.0, 3550.0], [38.6, 17.2, 199.0, 3750.0], [38.2, 20.0, 190.0, 3900.0], [38.1, 17.0, 181.0, 3175.0], [43.2, 19.0, 197.0, 4775.0], [38.1, 16.5, 198.0, 3825.0], [45.6, 20.3, 191.0, 4600.0], [39.7, 17.7, 193.0, 3200.0], [42.2, 19.5, 197.0, 4275.0], [39.6, 20.7, 191.0, 3900.0], [42.7, 18.3, 196.0, 4075.0], [38.6, 17.0, 188.0, 2900.0], [37.3, 20.5, 199.0, 3775.0], [35.7, 17.0, 189.0, 3350.0], [41.1, 18.6, 189.0, 3325.0], [36.2, 17.2, 187.0, 3150.0], [37.7, 19.8, 198.0, 3500.0], [40.2, 17.0, 176.0, 3450.0], [41.4, 18.5, 202.0, 3875.0], [35.2, 15.9, 186.0, 3050.0], [40.6, 19.0, 199.0, 4000.0], [38.8, 17.6, 191.0, 3275.0], [41.5, 18.3, 195.0, 4300.0], [39.0, 17.1, 191.0, 3050.0], [44.1, 18.0, 210.0, 4000.0], [38.5, 17.9, 190.0, 3325.0], [43.1, 19.2, 197.0, 3500.0], [36.8, 18.5, 193.0, 3500.0], [37.5, 18.5, 199.0, 4475.0], [38.1, 17.6, 187.0, 3425.0], [41.1, 17.5, 190.0, 3900.0], [35.6, 17.5, 191.0, 3175.0], [40.2, 20.1, 200.0, 3975.0], [37.0, 16.5, 185.0, 3400.0], [39.7, 17.9, 193.0, 4250.0], [40.2, 17.1, 193.0, 3400.0], [40.6, 17.2, 187.0, 3475.0], [32.1, 15.5, 188.0, 3050.0], [40.7, 17.0, 190.0, 3725.0], [37.3, 16.8, 192.0, 3000.0], [39.0, 18.7, 185.0, 3650.0], [39.2, 18.6, 190.0, 4250.0], [36.6, 18.4, 184.0, 3475.0], [36.0, 17.8, 195.0, 3450.0], [37.8, 18.1, 193.0, 3750.0], [36.0, 17.1, 187.0, 3700.0], [41.5, 18.5, 201.0, 4000.0], [46.1, 13.2, 211.0, 4500.0], [50.0, 16.3, 230.0, 5700.0], [48.7, 14.1, 210.0, 4450.0], [50.0, 15.2, 218.0, 5700.0], [47.6, 14.5, 215.0, 5400.0], [46.5, 13.5, 210.0, 4550.0], [45.4, 14.6, 211.0, 4800.0], [46.7, 15.3, 219.0, 5200.0], [43.3, 13.4, 209.0, 4400.0], [46.8, 15.4, 215.0, 5150.0], [40.9, 13.7, 214.0, 4650.0], [49.0, 16.1, 216.0, 5550.0], [45.5, 13.7, 214.0, 4650.0], [48.4, 14.6, 213.0, 5850.0], [45.8, 14.6, 210.0, 4200.0], [49.3, 15.7, 217.0, 5850.0], [42.0, 13.5, 210.0, 4150.0], [49.2, 15.2, 221.0, 6300.0], [46.2, 14.5, 209.0, 4800.0], [48.7, 15.1, 222.0, 5350.0], [50.2, 14.3, 218.0, 5700.0], [45.1, 14.5, 215.0, 5000.0], [46.5, 14.5, 213.0, 4400.0], [46.3, 15.8, 215.0, 5050.0], [42.9, 13.1, 215.0, 5000.0], [46.1, 15.1, 215.0, 5100.0], [44.5, 14.3, 216.0, 4100.0], [47.8, 15.0, 215.0, 5650.0], [48.2, 14.3, 210.0, 4600.0], [50.0, 15.3, 220.0, 5550.0], [47.3, 15.3, 222.0, 5250.0], [42.8, 14.2, 209.0, 4700.0], [45.1, 14.5, 207.0, 5050.0], [59.6, 17.0, 230.0, 6050.0], [49.1, 14.8, 220.0, 5150.0], [48.4, 16.3, 220.0, 5400.0], [42.6, 13.7, 213.0, 4950.0], [44.4, 17.3, 219.0, 5250.0], [44.0, 13.6, 208.0, 4350.0], [48.7, 15.7, 208.0, 5350.0], [42.7, 13.7, 208.0, 3950.0], [49.6, 16.0, 225.0, 5700.0], [45.3, 13.7, 210.0, 4300.0], [49.6, 15.0, 216.0, 4750.0], [50.5, 15.9, 222.0, 5550.0], [43.6, 13.9, 217.0, 4900.0], [45.5, 13.9, 210.0, 4200.0], [50.5, 15.9, 225.0, 5400.0], [44.9, 13.3, 213.0, 5100.0], [45.2, 15.8, 215.0, 5300.0], [46.6, 14.2, 210.0, 4850.0], [48.5, 14.1, 220.0, 5300.0], [45.1, 14.4, 210.0, 4400.0], [50.1, 15.0, 225.0, 5000.0], [46.5, 14.4, 217.0, 4900.0], [45.0, 15.4, 220.0, 5050.0], [43.8, 13.9, 208.0, 4300.0], [45.5, 15.0, 220.0, 5000.0], [43.2, 14.5, 208.0, 4450.0], [50.4, 15.3, 224.0, 5550.0], [45.3, 13.8, 208.0, 4200.0], [46.2, 14.9, 221.0, 5300.0], [45.7, 13.9, 214.0, 4400.0], [54.3, 15.7, 231.0, 5650.0], [45.8, 14.2, 219.0, 4700.0], [49.8, 16.8, 230.0, 5700.0], [46.2, 14.4, 214.0, 4650.0], [49.5, 16.2, 229.0, 5800.0], [43.5, 14.2, 220.0, 4700.0], [50.7, 15.0, 223.0, 5550.0], [47.7, 15.0, 216.0, 4750.0], [46.4, 15.6, 221.0, 5000.0], [48.2, 15.6, 221.0, 5100.0], [46.5, 14.8, 217.0, 5200.0], [46.4, 15.0, 216.0, 4700.0], [48.6, 16.0, 230.0, 5800.0], [47.5, 14.2, 209.0, 4600.0], [51.1, 16.3, 220.0, 6000.0], [45.2, 13.8, 215.0, 4750.0], [45.2, 16.4, 223.0, 5950.0], [49.1, 14.5, 212.0, 4625.0], [52.5, 15.6, 221.0, 5450.0], [47.4, 14.6, 212.0, 4725.0], [50.0, 15.9, 224.0, 5350.0], [44.9, 13.8, 212.0, 4750.0], [50.8, 17.3, 228.0, 5600.0], [43.4, 14.4, 218.0, 4600.0], [51.3, 14.2, 218.0, 5300.0], [47.5, 14.0, 212.0, 4875.0], [52.1, 17.0, 230.0, 5550.0], [47.5, 15.0, 218.0, 4950.0], [52.2, 17.1, 228.0, 5400.0], [45.5, 14.5, 212.0, 4750.0], [49.5, 16.1, 224.0, 5650.0], [44.5, 14.7, 214.0, 4850.0], [50.8, 15.7, 226.0, 5200.0], [49.4, 15.8, 216.0, 4925.0], [46.9, 14.6, 222.0, 4875.0], [48.4, 14.4, 203.0, 4625.0], [51.1, 16.5, 225.0, 5250.0], [48.5, 15.0, 219.0, 4850.0], [55.9, 17.0, 228.0, 5600.0], [47.2, 15.5, 215.0, 4975.0], [49.1, 15.0, 228.0, 5500.0], [47.3, 13.8, 216.0, 4725.0], [46.8, 16.1, 215.0, 5500.0], [41.7, 14.7, 210.0, 4700.0], [53.4, 15.8, 219.0, 5500.0], [43.3, 14.0, 208.0, 4575.0], [48.1, 15.1, 209.0, 5500.0], [50.5, 15.2, 216.0, 5000.0], [49.8, 15.9, 229.0, 5950.0], [43.5, 15.2, 213.0, 4650.0], [51.5, 16.3, 230.0, 5500.0], [46.2, 14.1, 217.0, 4375.0], [55.1, 16.0, 230.0, 5850.0], [44.5, 15.7, 217.0, 4875.0], [48.8, 16.2, 222.0, 6000.0], [47.2, 13.7, 214.0, 4925.0], [nan, nan, nan, nan], [46.8, 14.3, 215.0, 4850.0], [50.4, 15.7, 222.0, 5750.0], [45.2, 14.8, 212.0, 5200.0], [49.9, 16.1, 213.0, 5400.0], [46.5, 17.9, 192.0, 3500.0], [50.0, 19.5, 196.0, 3900.0], [51.3, 19.2, 193.0, 3650.0], [45.4, 18.7, 188.0, 3525.0], [52.7, 19.8, 197.0, 3725.0], [45.2, 17.8, 198.0, 3950.0], [46.1, 18.2, 178.0, 3250.0], [51.3, 18.2, 197.0, 3750.0], [46.0, 18.9, 195.0, 4150.0], [51.3, 19.9, 198.0, 3700.0], [46.6, 17.8, 193.0, 3800.0], [51.7, 20.3, 194.0, 3775.0], [47.0, 17.3, 185.0, 3700.0], [52.0, 18.1, 201.0, 4050.0], [45.9, 17.1, 190.0, 3575.0], [50.5, 19.6, 201.0, 4050.0], [50.3, 20.0, 197.0, 3300.0], [58.0, 17.8, 181.0, 3700.0], [46.4, 18.6, 190.0, 3450.0], [49.2, 18.2, 195.0, 4400.0], [42.4, 17.3, 181.0, 3600.0], [48.5, 17.5, 191.0, 3400.0], [43.2, 16.6, 187.0, 2900.0], [50.6, 19.4, 193.0, 3800.0], [46.7, 17.9, 195.0, 3300.0], [52.0, 19.0, 197.0, 4150.0], [50.5, 18.4, 200.0, 3400.0], [49.5, 19.0, 200.0, 3800.0], [46.4, 17.8, 191.0, 3700.0], [52.8, 20.0, 205.0, 4550.0], [40.9, 16.6, 187.0, 3200.0], [54.2, 20.8, 201.0, 4300.0], [42.5, 16.7, 187.0, 3350.0], [51.0, 18.8, 203.0, 4100.0], [49.7, 18.6, 195.0, 3600.0], [47.5, 16.8, 199.0, 3900.0], [47.6, 18.3, 195.0, 3850.0], [52.0, 20.7, 210.0, 4800.0], [46.9, 16.6, 192.0, 2700.0], [53.5, 19.9, 205.0, 4500.0], [49.0, 19.5, 210.0, 3950.0], [46.2, 17.5, 187.0, 3650.0], [50.9, 19.1, 196.0, 3550.0], [45.5, 17.0, 196.0, 3500.0], [50.9, 17.9, 196.0, 3675.0], [50.8, 18.5, 201.0, 4450.0], [50.1, 17.9, 190.0, 3400.0], [49.0, 19.6, 212.0, 4300.0], [51.5, 18.7, 187.0, 3250.0], [49.8, 17.3, 198.0, 3675.0], [48.1, 16.4, 199.0, 3325.0], [51.4, 19.0, 201.0, 3950.0], [45.7, 17.3, 193.0, 3600.0], [50.7, 19.7, 203.0, 4050.0], [42.5, 17.3, 187.0, 3350.0], [52.2, 18.8, 197.0, 3450.0], [45.2, 16.6, 191.0, 3250.0], [49.3, 19.9, 203.0, 4050.0], [50.2, 18.8, 202.0, 3800.0], [45.6, 19.4, 194.0, 3525.0], [51.9, 19.5, 206.0, 3950.0], [46.8, 16.5, 189.0, 3650.0], [45.7, 17.0, 195.0, 3650.0], [55.8, 19.8, 207.0, 4000.0], [43.5, 18.1, 202.0, 3400.0], [49.6, 18.2, 193.0, 3775.0], [50.8, 19.0, 210.0, 4100.0], [50.2, 18.7, 198.0, 3775.0]], 'columns': ['bill_length_mm', 'bill_depth_mm', 'flipper_length_mm', 'body_mass_g'], 'labels': ['Adelie', 'Adelie', 'Adelie', 'Adelie', 'Adelie', 'Adelie', 'Adelie', 'Adelie', 'Adelie', 'Adelie', 'Adelie', 'Adelie', 'Adelie', 'Adelie', 'Adelie', 'Adelie', 'Adelie', 'Adelie', 'Adelie', 'Adelie', 'Adelie', 'Adelie', 'Adelie', 'Adelie', 'Adelie', 'Adelie', 'Adelie', 'Adelie', 'Adelie', 'Adelie', 'Adelie', 'Adelie', 'Adelie', 'Adelie', 'Adelie', 'Adelie', 'Adelie', 'Adelie', 'Adelie', 'Adelie', 'Adelie', 'Adelie', 'Adelie', 'Adelie', 'Adelie', 'Adelie', 'Adelie', 'Adelie', 'Adelie', 'Adelie', 'Adelie', 'Adelie', 'Adelie', 'Adelie', 'Adelie', 'Adelie', 'Adelie', 'Adelie', 'Adelie', 'Adelie', 'Adelie', 'Adelie', 'Adelie', 'Adelie', 'Adelie', 'Adelie', 'Adelie', 'Adelie', 'Adelie', 'Adelie', 'Adelie', 'Adelie', 'Adelie', 'Adelie', 'Adelie', 'Adelie', 'Adelie', 'Adelie', 'Adelie', 'Adelie', 'Adelie', 'Adelie', 'Adelie', 'Adelie', 'Adelie', 'Adelie', 'Adelie', 'Adelie', 'Adelie', 'Adelie', 'Adelie', 'Adelie', 'Adelie', 'Adelie', 'Adelie', 'Adelie', 'Adelie', 'Adelie', 'Adelie', 'Adelie', 'Adelie', 'Adelie', 'Adelie', 'Adelie', 'Adelie', 'Adelie', 'Adelie', 'Adelie', 'Adelie', 'Adelie', 'Adelie', 'Adelie', 'Adelie', 'Adelie', 'Adelie', 'Adelie', 'Adelie', 'Adelie', 'Adelie', 'Adelie', 'Adelie', 'Adelie', 'Adelie', 'Adelie', 'Adelie', 'Adelie', 'Adelie', 'Adelie', 'Adelie', 'Adelie', 'Adelie', 'Adelie', 'Adelie', 'Adelie', 'Adelie', 'Adelie', 'Adelie', 'Adelie', 'Adelie', 'Adelie', 'Adelie', 'Adelie', 'Adelie', 'Adelie', 'Adelie', 'Adelie', 'Adelie', 'Adelie', 'Adelie', 'Adelie', 'Adelie', 'Adelie', 'Gentoo', 'Gentoo', 'Gentoo', 'Gentoo', 'Gentoo', 'Gentoo', 'Gentoo', 'Gentoo', 'Gentoo', 'Gentoo', 'Gentoo', 'Gentoo', 'Gentoo', 'Gentoo', 'Gentoo', 'Gentoo', 'Gentoo', 'Gentoo', 'Gentoo', 'Gentoo', 'Gentoo', 'Gentoo', 'Gentoo', 'Gentoo', 'Gentoo', 'Gentoo', 'Gentoo', 'Gentoo', 'Gentoo', 'Gentoo', 'Gentoo', 'Gentoo', 'Gentoo', 'Gentoo', 'Gentoo', 'Gentoo', 'Gentoo', 'Gentoo', 'Gentoo', 'Gentoo', 'Gentoo', 'Gentoo', 'Gentoo', 'Gentoo', 'Gentoo', 'Gentoo', 'Gentoo', 'Gentoo', 'Gentoo', 'Gentoo', 'Gentoo', 'Gentoo', 'Gentoo', 'Gentoo', 'Gentoo', 'Gentoo', 'Gentoo', 'Gentoo', 'Gentoo', 'Gentoo', 'Gentoo', 'Gentoo', 'Gentoo', 'Gentoo', 'Gentoo', 'Gentoo', 'Gentoo', 'Gentoo', 'Gentoo', 'Gentoo', 'Gentoo', 'Gentoo', 'Gentoo', 'Gentoo', 'Gentoo', 'Gentoo', 'Gentoo', 'Gentoo', 'Gentoo', 'Gentoo', 'Gentoo', 'Gentoo', 'Gentoo', 'Gentoo', 'Gentoo', 'Gentoo', 'Gentoo', 'Gentoo', 'Gentoo', 'Gentoo', 'Gentoo', 'Gentoo', 'Gentoo', 'Gentoo', 'Gentoo', 'Gentoo', 'Gentoo', 'Gentoo', 'Gentoo', 'Gentoo', 'Gentoo', 'Gentoo', 'Gentoo', 'Gentoo', 'Gentoo', 'Gentoo', 'Gentoo', 'Gentoo', 'Gentoo', 'Gentoo', 'Gentoo', 'Gentoo', 'Gentoo', 'Gentoo', 'Gentoo', 'Gentoo', 'Gentoo', 'Gentoo', 'Gentoo', 'Gentoo', 'Gentoo', 'Gentoo', 'Gentoo', 'Gentoo', 'Chinstrap', 'Chinstrap', 'Chinstrap', 'Chinstrap', 'Chinstrap', 'Chinstrap', 'Chinstrap', 'Chinstrap', 'Chinstrap', 'Chinstrap', 'Chinstrap', 'Chinstrap', 'Chinstrap', 'Chinstrap', 'Chinstrap', 'Chinstrap', 'Chinstrap', 'Chinstrap', 'Chinstrap', 'Chinstrap', 'Chinstrap', 'Chinstrap', 'Chinstrap', 'Chinstrap', 'Chinstrap', 'Chinstrap', 'Chinstrap', 'Chinstrap', 'Chinstrap', 'Chinstrap', 'Chinstrap', 'Chinstrap', 'Chinstrap', 'Chinstrap', 'Chinstrap', 'Chinstrap', 'Chinstrap', 'Chinstrap', 'Chinstrap', 'Chinstrap', 'Chinstrap', 'Chinstrap', 'Chinstrap', 'Chinstrap', 'Chinstrap', 'Chinstrap', 'Chinstrap', 'Chinstrap', 'Chinstrap', 'Chinstrap', 'Chinstrap', 'Chinstrap', 'Chinstrap', 'Chinstrap', 'Chinstrap', 'Chinstrap', 'Chinstrap', 'Chinstrap', 'Chinstrap', 'Chinstrap', 'Chinstrap', 'Chinstrap', 'Chinstrap', 'Chinstrap', 'Chinstrap', 'Chinstrap', 'Chinstrap', 'Chinstrap'], 'island': ['Torgersen', 'Torgersen', 'Torgersen', 'Torgersen', 'Torgersen', 'Torgersen', 'Torgersen', 'Torgersen', 'Torgersen', 'Torgersen', 'Torgersen', 'Torgersen', 'Torgersen', 'Torgersen', 'Torgersen', 'Torgersen', 'Torgersen', 'Torgersen', 'Torgersen', 'Torgersen', 'Biscoe', 'Biscoe', 'Biscoe', 'Biscoe', 'Biscoe', 'Biscoe', 'Biscoe', 'Biscoe', 'Biscoe', 'Biscoe', 'Dream', 'Dream', 'Dream', 'Dream', 'Dream', 'Dream', 'Dream', 'Dream', 'Dream', 'Dream', 'Dream', 'Dream', 'Dream', 'Dream', 'Dream', 'Dream', 'Dream', 'Dream', 'Dream', 'Dream', 'Biscoe', 'Biscoe', 'Biscoe', 'Biscoe', 'Biscoe', 'Biscoe', 'Biscoe', 'Biscoe', 'Biscoe', 'Biscoe', 'Biscoe', 'Biscoe', 'Biscoe', 'Biscoe', 'Biscoe', 'Biscoe', 'Biscoe', 'Biscoe', 'Torgersen', 'Torgersen', 'Torgersen', 'Torgersen', 'Torgersen', 'Torgersen', 'Torgersen', 'Torgersen', 'Torgersen', 'Torgersen', 'Torgersen', 'Torgersen', 'Torgersen', 'Torgersen', 'Torgersen', 'Torgersen', 'Dream', 'Dream', 'Dream', 'Dream', 'Dream', 'Dream', 'Dream', 'Dream', 'Dream', 'Dream', 'Dream', 'Dream', 'Dream', 'Dream', 'Dream', 'Dream', 'Biscoe', 'Biscoe', 'Biscoe', 'Biscoe', 'Biscoe', 'Biscoe', 'Biscoe', 'Biscoe', 'Biscoe', 'Biscoe', 'Biscoe', 'Biscoe', 'Biscoe', 'Biscoe', 'Biscoe', 'Biscoe', 'Torgersen', 'Torgersen', 'Torgersen', 'Torgersen', 'Torgersen', 'Torgersen', 'Torgersen', 'Torgersen', 'Torgersen', 'Torgersen', 'Torgersen', 'Torgersen', 'Torgersen', 'Torgersen', 'Torgersen', 'Torgersen', 'Dream', 'Dream', 'Dream', 'Dream', 'Dream', 'Dream', 'Dream', 'Dream', 'Dream', 'Dream', 'Dream', 'Dream', 'Dream', 'Dream', 'Dream', 'Dream', 'Dream', 'Dream', 'Dream', 'Dream', 'Biscoe', 'Biscoe', 'Biscoe', 'Biscoe', 'Biscoe', 'Biscoe', 'Biscoe', 'Biscoe', 'Biscoe', 'Biscoe', 'Biscoe', 'Biscoe', 'Biscoe', 'Biscoe', 'Biscoe', 'Biscoe', 'Biscoe', 'Biscoe', 'Biscoe', 'Biscoe', 'Biscoe', 'Biscoe', 'Biscoe', 'Biscoe', 'Biscoe', 'Biscoe', 'Biscoe', 'Biscoe', 'Biscoe', 'Biscoe', 'Biscoe', 'Biscoe', 'Biscoe', 'Biscoe', 'Biscoe', 'Biscoe', 'Biscoe', 'Biscoe', 'Biscoe', 'Biscoe', 'Biscoe', 'Biscoe', 'Biscoe', 'Biscoe', 'Biscoe', 'Biscoe', 'Biscoe', 'Biscoe', 'Biscoe', 'Biscoe', 'Biscoe', 'Biscoe', 'Biscoe', 'Biscoe', 'Biscoe', 'Biscoe', 'Biscoe', 'Biscoe', 'Biscoe', 'Biscoe', 'Biscoe', 'Biscoe', 'Biscoe', 'Biscoe', 'Biscoe', 'Biscoe', 'Biscoe', 'Biscoe', 'Biscoe', 'Biscoe', 'Biscoe', 'Biscoe', 'Biscoe', 'Biscoe', 'Biscoe', 'Biscoe', 'Biscoe', 'Biscoe', 'Biscoe', 'Biscoe', 'Biscoe', 'Biscoe', 'Biscoe', 'Biscoe', 'Biscoe', 'Biscoe', 'Biscoe', 'Biscoe', 'Biscoe', 'Biscoe', 'Biscoe', 'Biscoe', 'Biscoe', 'Biscoe', 'Biscoe', 'Biscoe', 'Biscoe', 'Biscoe', 'Biscoe', 'Biscoe', 'Biscoe', 'Biscoe', 'Biscoe', 'Biscoe', 'Biscoe', 'Biscoe', 'Biscoe', 'Biscoe', 'Biscoe', 'Biscoe', 'Biscoe', 'Biscoe', 'Biscoe', 'Biscoe', 'Biscoe', 'Biscoe', 'Biscoe', 'Biscoe', 'Biscoe', 'Biscoe', 'Biscoe', 'Biscoe', 'Biscoe', 'Biscoe', 'Dream', 'Dream', 'Dream', 'Dream', 'Dream', 'Dream', 'Dream', 'Dream', 'Dream', 'Dream', 'Dream', 'Dream', 'Dream', 'Dream', 'Dream', 'Dream', 'Dream', 'Dream', 'Dream', 'Dream', 'Dream', 'Dream', 'Dream', 'Dream', 'Dream', 'Dream', 'Dream', 'Dream', 'Dream', 'Dream', 'Dream', 'Dream', 'Dream', 'Dream', 'Dream', 'Dream', 'Dream', 'Dream', 'Dream', 'Dream', 'Dream', 'Dream', 'Dream', 'Dream', 'Dream', 'Dream', 'Dream', 'Dream', 'Dream', 'Dream', 'Dream', 'Dream', 'Dream', 'Dream', 'Dream', 'Dream', 'Dream', 'Dream', 'Dream', 'Dream', 'Dream', 'Dream', 'Dream', 'Dream', 'Dream', 'Dream', 'Dream', 'Dream'], 'sex': ['male', 'female', 'female', nan, 'female', 'male', 'female', 'male', nan, nan, nan, nan, 'female', 'male', 'male', 'female', 'female', 'male', 'female', 'male', 'female', 'male', 'female', 'male', 'male', 'female', 'male', 'female', 'female', 'male', 'female', 'male', 'female', 'male', 'female', 'male', 'male', 'female', 'female', 'male', 'female', 'male', 'female', 'male', 'female', 'male', 'male', nan, 'female', 'male', 'female', 'male', 'female', 'male', 'female', 'male', 'female', 'male', 'female', 'male', 'female', 'male', 'female', 'male', 'female', 'male', 'female', 'male', 'female', 'male', 'female', 'male', 'female', 'male', 'female', 'male', 'female', 'male', 'female', 'male', 'female', 'male', 'female', 'male', 'female', 'male', 'male', 'female', 'male', 'female', 'female', 'male', 'female', 'male', 'female', 'male', 'female', 'male', 'female', 'male', 'female', 'male', 'female', 'male', 'female', 'male', 'female', 'male', 'female', 'male', 'female', 'male', 'female', 'male', 'female', 'male', 'female', 'male', 'female', 'male', 'female', 'male', 'female', 'male', 'female', 'male', 'female', 'male', 'female', 'male', 'female', 'male', 'female', 'male', 'female', 'male', 'female', 'male', 'female', 'male', 'female', 'male', 'female', 'male', 'female', 'male', 'male', 'female', 'female', 'male', 'female', 'male', 'female', 'male', 'female', 'male', 'male', 'female', 'female', 'male', 'female', 'male', 'female', 'male', 'female', 'male', 'female', 'male', 'female', 'male', 'female', 'male', 'male', 'female', 'female', 'male', 'female', 'male', nan, 'male', 'female', 'male', 'male', 'female', 'female', 'male', 'female', 'male', 'female', 'male', 'female', 'male', 'female', 'male', 'female', 'male', 'male', 'female', 'female', 'male', 'female', 'male', 'female', 'male', 'female', 'male', 'female', 'male', 'female', 'male', 'female', 'male', 'female', 'male', 'female', 'male', 'female', 'male', nan, 'male', 'female', 'male', 'female', 'male', 'male', 'female', 'female', 'male', 'female', 'male', 'female', 'male', 'female', 'male', 'female', 'male', 'female', 'male', 'female', 'male', 'female', 'male', 'female', 'male', 'female', 'male', 'female', 'male', 'male', 'female', 'female', 'male', 'female', 'male', 'female', 'male', nan, 'male', 'female', 'male', 'female', 'male', 'female', 'male', 'female', 'male', 'female', 'male', nan, 'male', 'female', nan, 'female', 'male', 'female', 'male', 'female', 'male', 'male', 'female', 'male', 'female', 'female', 'male', 'female', 'male', 'female', 'male', 'female', 'male', 'female', 'male', 'male', 'female', 'female', 'male', 'female', 'male', 'female', 'male', 'female', 'male', 'female', 'male', 'female', 'male', 'female', 'male', 'female', 'male', 'male', 'female', 'female', 'male', 'female', 'male', 'male', 'female', 'male', 'female', 'female', 'male', 'female', 'male', 'male', 'female', 'female', 'male', 'female', 'male', 'female', 'male', 'female', 'male', 'male', 'female', 'male', 'female', 'female', 'male', 'female', 'male', 'male', 'female'], 'year': [2007, 2007, 2007, 2007, 2007, 2007, 2007, 2007, 2007, 2007, 2007, 2007, 2007, 2007, 2007, 2007, 2007, 2007, 2007, 2007, 2007, 2007, 2007, 2007, 2007, 2007, 2007, 2007, 2007, 2007, 2007, 2007, 2007, 2007, 2007, 2007, 2007, 2007, 2007, 2007, 2007, 2007, 2007, 2007, 2007, 2007, 2007, 2007, 2007, 2007, 2008, 2008, 2008, 2008, 2008, 2008, 2008, 2008, 2008, 2008, 2008, 2008, 2008, 2008, 2008, 2008, 2008, 2008, 2008, 2008, 2008, 2008, 2008, 2008, 2008, 2008, 2008, 2008, 2008, 2008, 2008, 2008, 2008, 2008, 2008, 2008, 2008, 2008, 2008, 2008, 2008, 2008, 2008, 2008, 2008, 2008, 2008, 2008, 2008, 2008, 2009, 2009, 2009, 2009, 2009, 2009, 2009, 2009, 2009, 2009, 2009, 2009, 2009, 2009, 2009, 2009, 2009, 2009, 2009, 2009, 2009, 2009, 2009, 2009, 2009, 2009, 2009, 2009, 2009, 2009, 2009, 2009, 2009, 2009, 2009, 2009, 2009, 2009, 2009, 2009, 2009, 2009, 2009, 2009, 2009, 2009, 2009, 2009, 2009, 2009, 2009, 2009, 2007, 2007, 2007, 2007, 2007, 2007, 2007, 2007, 2007, 2007, 2007, 2007, 2007, 2007, 2007, 2007, 2007, 2007, 2007, 2007, 2007, 2007, 2007, 2007, 2007, 2007, 2007, 2007, 2007, 2007, 2007, 2007, 2007, 2007, 2008, 2008, 2008, 2008, 2008, 2008, 2008, 2008, 2008, 2008, 2008, 2008, 2008, 2008, 2008, 2008, 2008, 2008, 2008, 2008, 2008, 2008, 2008, 2008, 2008, 2008, 2008, 2008, 2008, 2008, 2008, 2008, 2008, 2008, 2008, 2008, 2008, 2008, 2008, 2008, 2008, 2008, 2008, 2008, 2008, 2008, 2009, 2009, 2009, 2009, 2009, 2009, 2009, 2009, 2009, 2009, 2009, 2009, 2009, 2009, 2009, 2009, 2009, 2009, 2009, 2009, 2009, 2009, 2009, 2009, 2009, 2009, 2009, 2009, 2009, 2009, 2009, 2009, 2009, 2009, 2009, 2009, 2009, 2009, 2009, 2009, 2009, 2009, 2009, 2009, 2007, 2007, 2007, 2007, 2007, 2007, 2007, 2007, 2007, 2007, 2007, 2007, 2007, 2007, 2007, 2007, 2007, 2007, 2007, 2007, 2007, 2007, 2007, 2007, 2007, 2007, 2008, 2008, 2008, 2008, 2008, 2008, 2008, 2008, 2008, 2008, 2008, 2008, 2008, 2008, 2008, 2008, 2008, 2008, 2009, 2009, 2009, 2009, 2009, 2009, 2009, 2009, 2009, 2009, 2009, 2009, 2009, 2009, 2009, 2009, 2009, 2009, 2009, 2009, 2009, 2009, 2009, 2009], 'statistics': {'bill_length_mm': {'count': 342.0, 'mean': 43.9219298246, 'std': 5.4595837139, 'min': 32.1, '25%': 39.225, '50%': 44.45, '75%': 48.5, 'max': 59.6}, 'bill_depth_mm': {'count': 342.0, 'mean': 17.1511695906, 'std': 1.9747931568, 'min': 13.1, '25%': 15.6, '50%': 17.3, '75%': 18.7, 'max': 21.5}, 'flipper_length_mm': {'count': 342.0, 'mean': 200.9152046784, 'std': 14.0617136794, 'min': 172.0, '25%': 190.0, '50%': 197.0, '75%': 213.0, 'max': 231.0}, 'body_mass_g': {'count': 342.0, 'mean': 4201.7543859649, 'std': 801.9545356981, 'min': 2700.0, '25%': 3550.0, '50%': 4050.0, '75%': 4750.0, 'max': 6300.0}}}\n"
     ]
    }
   ],
   "source": [
    "!pip install pandas\n",
    "!pip install simplejson\n",
    "import pandas as pd\n",
    "import simplejson as json\n",
    "\n",
    "data = pd.read_csv(\"penguins.txt\")\n",
    "print(data.columns)\n",
    "columns = [\"bill_length_mm\", \"bill_depth_mm\", \"flipper_length_mm\", \"body_mass_g\"]\n",
    "\n",
    "values = data[columns].values\n",
    "print(values)\n",
    "labels = data[\"species\"].values\n",
    "sex = data[\"sex\"].values\n",
    "year = data[\"year\"].values\n",
    "island = data[\"island\"].values\n",
    "statistics = json.loads(pd.DataFrame(values, columns=columns).describe().to_json())\n",
    "result = {\n",
    "    \"values\": values.tolist(),\n",
    "    \"columns\": columns,\n",
    "    \"labels\": labels.tolist(),\n",
    "    \"island\": island.tolist(),\n",
    "    \"sex\": sex.tolist(),\n",
    "    \"year\": year.tolist(),\n",
    "    \"statistics\": statistics,\n",
    "}\n",
    "print(result)\n",
    "with open(\"../dataset/penguins.json\", \"w\") as outfile:\n",
    "    json.dump(result, outfile, ignore_nan=True)"
   ]
  },
  {
   "cell_type": "code",
   "execution_count": null,
   "metadata": {},
   "outputs": [],
   "source": []
  }
 ],
 "metadata": {
  "kernelspec": {
   "display_name": "Python 3 (ipykernel)",
   "language": "python",
   "name": "python3"
  },
  "language_info": {
   "codemirror_mode": {
    "name": "ipython",
    "version": 3
   },
   "file_extension": ".py",
   "mimetype": "text/x-python",
   "name": "python",
   "nbconvert_exporter": "python",
   "pygments_lexer": "ipython3",
   "version": "3.10.1"
  }
 },
 "nbformat": 4,
 "nbformat_minor": 2
}
